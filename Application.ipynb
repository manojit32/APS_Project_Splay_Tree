{
 "cells": [
  {
   "cell_type": "code",
   "execution_count": 1,
   "metadata": {},
   "outputs": [
    {
     "name": "stdout",
     "output_type": "stream",
     "text": [
      "1\n"
     ]
    }
   ],
   "source": [
    "import demo"
   ]
  },
  {
   "cell_type": "code",
   "execution_count": null,
   "metadata": {},
   "outputs": [
    {
     "name": "stdout",
     "output_type": "stream",
     "text": [
      "Enter 1 to enter new record, 2 to search by artist name, 3 to delete, 4 to exit: \n",
      "2\n",
      "Enter artist name: Enrique Iglesias\n",
      "Enrique Iglesias Contigo\n",
      "Enrique Iglesias Para Qué La Vida\n",
      "Enrique Iglesias Love To See You Cry\n",
      "Enrique Iglesias Dímelo\n",
      "Enrique Iglesias Escape\n",
      "Enrique Iglesias Roamer\n",
      "Enrique Iglesias Ring My Bells\n",
      "Enrique Iglesias Quizás\n",
      "Enrique Iglesias No Puedo Mas Sin Ti (I'm Your Man)\n",
      "Enrique Iglesias California Callin'\n",
      "Enrique Iglesias Bailamos\n",
      "Enrique Iglesias Don't Turn Off the Lights\n",
      "Enrique Iglesias / Ciara Takin' Back My Love\n",
      "Enrique Iglesias Can You Hear Me\n",
      "Enrique Iglesias Miente\n",
      "Enrique Iglesias Cosas Del Amor\n",
      "Enrique Iglesias Experiencia Religiosa\n",
      "Enrique Iglesias Maybe\n",
      "Enrique Iglesias / Kelis Not In Love\n",
      "Enter 1 to enter new record, 2 to search by artist name, 3 to delete, 4 to exit: \n",
      "1\n",
      "Enter artist name: Enrique Iglesias\n",
      "Enter song name: Hero\n",
      "Successfully inserted.\n",
      "Enter 1 to enter new record, 2 to search by artist name, 3 to delete, 4 to exit: \n",
      "2\n",
      "Enter artist name: Enrique Iglesias\n",
      "Enrique Iglesias Contigo\n",
      "Enrique Iglesias Para Qué La Vida\n",
      "Enrique Iglesias Love To See You Cry\n",
      "Enrique Iglesias Dímelo\n",
      "Enrique Iglesias Escape\n",
      "Enrique Iglesias Roamer\n",
      "Enrique Iglesias Ring My Bells\n",
      "Enrique Iglesias Quizás\n",
      "Enrique Iglesias No Puedo Mas Sin Ti (I'm Your Man)\n",
      "Enrique Iglesias California Callin'\n",
      "Enrique Iglesias Hero\n",
      "Enrique Iglesias Bailamos\n",
      "Enrique Iglesias Don't Turn Off the Lights\n",
      "Enrique Iglesias / Ciara Takin' Back My Love\n",
      "Enrique Iglesias Can You Hear Me\n",
      "Enrique Iglesias Miente\n",
      "Enrique Iglesias Cosas Del Amor\n",
      "Enrique Iglesias Experiencia Religiosa\n",
      "Enrique Iglesias Maybe\n",
      "Enrique Iglesias / Kelis Not In Love\n"
     ]
    }
   ],
   "source": [
    "demo.face()"
   ]
  },
  {
   "cell_type": "code",
   "execution_count": null,
   "metadata": {},
   "outputs": [],
   "source": []
  }
 ],
 "metadata": {
  "kernelspec": {
   "display_name": "Python 3",
   "language": "python",
   "name": "python3"
  },
  "language_info": {
   "codemirror_mode": {
    "name": "ipython",
    "version": 3
   },
   "file_extension": ".py",
   "mimetype": "text/x-python",
   "name": "python",
   "nbconvert_exporter": "python",
   "pygments_lexer": "ipython3",
   "version": "3.7.0"
  }
 },
 "nbformat": 4,
 "nbformat_minor": 2
}
