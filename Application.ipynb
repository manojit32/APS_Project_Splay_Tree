{
 "cells": [
  {
   "cell_type": "code",
   "execution_count": 8,
   "metadata": {},
   "outputs": [
    {
     "name": "stdout",
     "output_type": "stream",
     "text": [
      "1\n"
     ]
    }
   ],
   "source": [
    "import demo1"
   ]
  },
  {
   "cell_type": "code",
   "execution_count": 11,
   "metadata": {},
   "outputs": [
    {
     "name": "stdout",
     "output_type": "stream",
     "text": [
      "Enter 1 to enter new record, 2 to search by artist name, 3 to delete, 4 to exit: \n",
      "2\n",
      "Enter artist name: Enrique Iglesias\n",
      "Contigo\n",
      "Bailamos\n",
      "Maybe\n",
      "Roamer\n",
      "Can You Hear Me\n",
      "Quizás\n",
      "Dímelo\n",
      "Love To See You Cry\n",
      "Love To See You Cry\n",
      "Miente\n",
      "No Puedo Mas Sin Ti (I'm Your Man)\n",
      "Don't Turn Off the Lights\n",
      "Can You Hear Me\n",
      "Experiencia Religiosa\n",
      "Roamer\n",
      "Can You Hear Me\n",
      "Para Qué La Vida\n",
      "California Callin'\n",
      "Escape\n",
      "Ring My Bells\n",
      "Can You Hear Me\n",
      "Escape\n",
      "California Callin'\n",
      "Para Qué La Vida\n",
      "Cosas Del Amor\n",
      "Bailamos\n",
      "Can You Hear Me\n",
      "Dímelo\n",
      "Enter 1 to enter new record, 2 to search by artist name, 3 to delete, 4 to exit: \n",
      "1\n",
      "Enter artist name: Enrique Iglesias\n",
      "Enter song name: Hero\n",
      "Successfully inserted.\n",
      "Enter 1 to enter new record, 2 to search by artist name, 3 to delete, 4 to exit: \n",
      "2\n",
      "Enter artist name: Enrique Iglesias\n",
      "Contigo\n",
      "Bailamos\n",
      "Maybe\n",
      "Roamer\n",
      "Can You Hear Me\n",
      "Quizás\n",
      "Dímelo\n",
      "Love To See You Cry\n",
      "Love To See You Cry\n",
      "Miente\n",
      "No Puedo Mas Sin Ti (I'm Your Man)\n",
      "Don't Turn Off the Lights\n",
      "Can You Hear Me\n",
      "Experiencia Religiosa\n",
      "Roamer\n",
      "Can You Hear Me\n",
      "Para Qué La Vida\n",
      "California Callin'\n",
      "Escape\n",
      "Ring My Bells\n",
      "Can You Hear Me\n",
      "Escape\n",
      "California Callin'\n",
      "Para Qué La Vida\n",
      "Cosas Del Amor\n",
      "Bailamos\n",
      "Can You Hear Me\n",
      "Dímelo\n",
      "Hero\n",
      "Enter 1 to enter new record, 2 to search by artist name, 3 to delete, 4 to exit: \n",
      "4\n",
      "Exiting application.\n"
     ]
    },
    {
     "data": {
      "text/plain": [
       "0"
      ]
     },
     "execution_count": 11,
     "metadata": {},
     "output_type": "execute_result"
    }
   ],
   "source": [
    "demo1.face()"
   ]
  },
  {
   "cell_type": "code",
   "execution_count": null,
   "metadata": {},
   "outputs": [],
   "source": []
  }
 ],
 "metadata": {
  "kernelspec": {
   "display_name": "Python 3",
   "language": "python",
   "name": "python3"
  },
  "language_info": {
   "codemirror_mode": {
    "name": "ipython",
    "version": 3
   },
   "file_extension": ".py",
   "mimetype": "text/x-python",
   "name": "python",
   "nbconvert_exporter": "python",
   "pygments_lexer": "ipython3",
   "version": "3.7.0"
  }
 },
 "nbformat": 4,
 "nbformat_minor": 2
}
