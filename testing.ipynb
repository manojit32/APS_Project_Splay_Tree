{
 "cells": [
  {
   "cell_type": "code",
   "execution_count": 1,
   "metadata": {
    "collapsed": true
   },
   "outputs": [],
   "source": [
    "import bst\n",
    "\n",
    "class Splay(bst.BST):\n",
    "    def __init__(self):\n",
    "        super(Splay, self).__init__()\n",
    "\n",
    "    def splay(self, x):\n",
    "        while x != self.root:\n",
    "            if x == x.parent.right:\n",
    "                if x.parent == self.root:\n",
    "                    self.left_rotate(x.parent)\n",
    "                elif x.parent == x.parent.parent.right:\n",
    "                    self.left_rotate(x.parent.parent)\n",
    "                    self.left_rotate(x.parent)\n",
    "                else:\n",
    "                    assert x.parent == x.parent.parent.left\n",
    "                    self.left_rotate(x.parent)\n",
    "                    self.right_rotate(x.parent)\n",
    "            else:\n",
    "                assert x == x.parent.left\n",
    "                if x.parent == self.root:\n",
    "                    self.right_rotate(x.parent)\n",
    "                elif x.parent == x.parent.parent.left:\n",
    "                    self.right_rotate(x.parent.parent)\n",
    "                    self.right_rotate(x.parent)\n",
    "                else:\n",
    "                    assert x.parent == x.parent.parent.right\n",
    "                    self.right_rotate(x.parent)\n",
    "                    self.left_rotate(x.parent)\n",
    "\n",
    "    def _insert(self, key, node):\n",
    "        if key < node.key:\n",
    "            if node.left:\n",
    "                self._insert(key, node.left)\n",
    "            else:\n",
    "                node.left = bst.Node(key, parent=node)\n",
    "                self.splay(node.left)\n",
    "        else:\n",
    "            if node.right:\n",
    "                self._insert(key, node.right)\n",
    "            else:\n",
    "                node.right = bst.Node(key, parent=node)\n",
    "                self.splay(node.right)\n",
    "\n",
    "    def _search(self, key, node):\n",
    "        if not node:\n",
    "            return False\n",
    "        elif key == node.key:\n",
    "            self.splay(node)\n",
    "            return True\n",
    "        elif key < node.key:\n",
    "            return self._search(key, node.left)\n",
    "        else:\n",
    "            return self._search(key, node.right)\n",
    "\n",
    "    def _remove(self, z):\n",
    "        if z.left == None:\n",
    "            self.transplant(z, z.right)\n",
    "        elif z.right == None:\n",
    "            self.transplant(z, z.left)\n",
    "        else:\n",
    "            y = self.get_min(z.right)\n",
    "            if y.parent != z:\n",
    "                self.transplant(y, y.right)\n",
    "                y.right = z.right\n",
    "                y.right.parent = y\n",
    "            self.transplant(z, y)\n",
    "            y.left = z.left\n",
    "            y.left.parent = y"
   ]
  },
  {
   "cell_type": "code",
   "execution_count": 2,
   "metadata": {
    "collapsed": true
   },
   "outputs": [],
   "source": [
    "class Node:\n",
    "    def __init__(self, key, left=None, right=None, parent=None):\n",
    "        self.left = left\n",
    "        self.right = right\n",
    "        self.key = key\n",
    "        self.parent = parent\n",
    "\n",
    "class BST:\n",
    "    def __init__(self):\n",
    "        self.root = None\n",
    "\n",
    "    def insert(self, key):\n",
    "        if self.root:\n",
    "            self._insert(key, self.root)\n",
    "        else:\n",
    "            self.root = Node(key)\n",
    "\n",
    "    def _insert(self, key, node):\n",
    "        if key < node.key:\n",
    "            if node.left:\n",
    "                self._insert(key, node.left)\n",
    "            else:\n",
    "                node.left = Node(key, parent=node)\n",
    "        else:\n",
    "            if node.right:\n",
    "                self._insert(key, node.right)\n",
    "            else:\n",
    "                node.right = Node(key, parent=node)\n",
    "\n",
    "    def print_root(self):\n",
    "        print(\"root is \", end='')\n",
    "        print(self.root.key)\n",
    "\n",
    "    def get_node(self, key, node):\n",
    "        if key == node.key:\n",
    "            return node\n",
    "        elif key < node.key:\n",
    "            return self.get_node(key, node.left)\n",
    "        else:\n",
    "            return self.get_node(key, node.right)\n",
    "\n",
    "    def remove(self, key):\n",
    "        self._remove(self.get_node(key, self.root))\n",
    "\n",
    "    def transplant(self, u, v):\n",
    "        if u.parent == None:\n",
    "            self.root = v\n",
    "        elif u == u.parent.left:\n",
    "            u.parent.left = v\n",
    "        else:\n",
    "            u.parent.right = v\n",
    "\n",
    "        if v != None:\n",
    "            v.parent = u.parent\n",
    "\n",
    "    def get_min(self, root):\n",
    "        x = root\n",
    "        while x.left != None:\n",
    "            x = x.left\n",
    "        return x\n",
    "\n",
    "    def _remove(self, z):\n",
    "        tosplay = None\n",
    "        if z.left == None:\n",
    "            self.transplant(z, z.right)\n",
    "        elif z.right == None:\n",
    "            self.transplant(z, z.left)\n",
    "        else:\n",
    "            y = self.get_min(z.right)\n",
    "            if y.parent != z:\n",
    "                self.transplant(y, y.right)\n",
    "                y.right = z.right\n",
    "                y.right.parent = y\n",
    "            self.transplant(z, y)\n",
    "            y.left = z.left\n",
    "            y.left.parent = y\n",
    "\n",
    "    def height(self):\n",
    "        return self._height(self.root)\n",
    "\n",
    "    def _height(self, node):\n",
    "        if not node:\n",
    "            return 0\n",
    "\n",
    "        lheight = self._height(node.left)\n",
    "        rheight = self._height(node.right)\n",
    "        return max(lheight, rheight) + 1\n",
    "\n",
    "    def search(self, key):\n",
    "        return self._search(key, self.root)\n",
    "\n",
    "    def _search(self, key, node):\n",
    "        if not node:\n",
    "            return False\n",
    "        elif key == node.key:\n",
    "            return True\n",
    "        elif key < node.key:\n",
    "            return self._search(key, node.left)\n",
    "        else:\n",
    "            return self._search(key, node.right)\n",
    "\n",
    "    def left_rotate(self, x):\n",
    "        y = x.right\n",
    "        x.right = y.left\n",
    "        if y.left != None:\n",
    "            y.left.parent = x\n",
    "        y.parent = x.parent\n",
    "        if x.parent == None:\n",
    "            self.root = y\n",
    "        elif x == x.parent.left:\n",
    "            x.parent.left = y\n",
    "        else:\n",
    "            x.parent.right = y\n",
    "        y.left = x\n",
    "        x.parent = y\n",
    "        \n",
    "    def right_rotate(self, x):\n",
    "        y = x.left\n",
    "        x.left = y.right\n",
    "        if y.right != None:\n",
    "            y.right.parent = x\n",
    "        y.parent = x.parent\n",
    "        if x.parent == None:\n",
    "            self.root = y\n",
    "        elif x == x.parent.right:\n",
    "            x.parent.right = y\n",
    "        else:\n",
    "            x.parent.left = y\n",
    "        y.right = x\n",
    "        x.parent = y\n",
    "\n",
    "    def inorder(self):\n",
    "        self._inorder(self.root)\n",
    "        print()\n",
    "\n",
    "    def _inorder(self, node):\n",
    "        if node:\n",
    "            self._inorder(node.left)\n",
    "            print(node.key, end=' ')\n",
    "            self._inorder(node.right)"
   ]
  },
  {
   "cell_type": "code",
   "execution_count": 3,
   "metadata": {
    "collapsed": true
   },
   "outputs": [],
   "source": [
    "import bst\n",
    "import splay\n",
    "import random\n",
    "import time\n",
    "\n",
    "MAX = 10000\n",
    "NUM_ROUNDS = 10\n",
    "\n",
    "def gen_accesses(n):\n",
    "    accesses = []\n",
    "    for i in range(n):\n",
    "        accesses.append(random.randint(0, MAX))\n",
    "    return accesses\n",
    "\n",
    "def insertions(data, tree):\n",
    "    for datum in data:\n",
    "        tree.insert(datum)\n",
    "\n",
    "def accesses(accs, tree):\n",
    "    for a in accs:\n",
    "        tree.search(a)\n",
    "\n",
    "def deletions(ds, tree):\n",
    "    for d in ds:\n",
    "        tree.remove(d)\n",
    "\n",
    "avg_uni_b = 0\n",
    "avg_pretty_uneven_b4 = 0\n",
    "avg_pretty_uneven_b10 = 0\n",
    "avg_very_uneven_b = 0\n",
    "avg_inter_b = 0\n",
    "avg_del_b = 0"
   ]
  },
  {
   "cell_type": "code",
   "execution_count": 4,
   "metadata": {
    "collapsed": true
   },
   "outputs": [],
   "source": [
    "import matplotlib.pyplot as plt"
   ]
  },
  {
   "cell_type": "code",
   "execution_count": 5,
   "metadata": {
    "collapsed": true
   },
   "outputs": [],
   "source": [
    "def insertions1(data,tree):\n",
    "    start = time.process_time()\n",
    "    x=[0];\n",
    "    i=0;\n",
    "    tt=[];\n",
    "    for datum in data:\n",
    "        tree.insert(datum)\n",
    "        i+=1;\n",
    "        x.append(i);\n",
    "        tt.append(time.process_time()-start);\n",
    "    plt.plot(x,tt);\n",
    "    plt.xlabel(\"Numbers inserted\");\n",
    "    plt.ylabel(\"Time taken\");\n",
    "    \n",
    "        \n",
    "        "
   ]
  },
  {
   "cell_type": "code",
   "execution_count": 14,
   "metadata": {
    "collapsed": true
   },
   "outputs": [],
   "source": [
    "# b = bst.BST()\n",
    "# s = splay.Splay()\n",
    "# insertions1(data, b)\n",
    "# insertions1(data, s)\n",
    "def insertions1(data,tree,tree1):\n",
    "    start = time.process_time()\n",
    "    x=[];\n",
    "    i=0;\n",
    "    tt=[];\n",
    "    for datum in data:\n",
    "        tree.insert(datum)\n",
    "        i+=1;\n",
    "        x.append(i);\n",
    "        tt.append(time.process_time()-start);\n",
    "    plt.plot(x,tt,label=\"BST\");\n",
    "    start = time.process_time()\n",
    "    x=[];\n",
    "    i=0;\n",
    "    tt=[];\n",
    "    for datum in data:\n",
    "        tree1.insert(datum)\n",
    "        i+=1;\n",
    "        x.append(i);\n",
    "        tt.append(time.process_time()-start);\n",
    "    plt.plot(x,tt,label=\"Splay tree\");\n",
    "    plt.xlabel(\"Numbers inserted\");\n",
    "    plt.ylabel(\"Time taken\");\n",
    "    plt.legend()\n",
    "    plt.show()"
   ]
  },
  {
   "cell_type": "code",
   "execution_count": 8,
   "metadata": {},
   "outputs": [
    {
     "ename": "NameError",
     "evalue": "name 'data' is not defined",
     "output_type": "error",
     "traceback": [
      "\u001b[1;31m---------------------------------------------------------------------------\u001b[0m",
      "\u001b[1;31mNameError\u001b[0m                                 Traceback (most recent call last)",
      "\u001b[1;32m<ipython-input-8-42d61ed47814>\u001b[0m in \u001b[0;36m<module>\u001b[1;34m()\u001b[0m\n\u001b[0;32m      1\u001b[0m \u001b[0mb\u001b[0m \u001b[1;33m=\u001b[0m \u001b[0mbst\u001b[0m\u001b[1;33m.\u001b[0m\u001b[0mBST\u001b[0m\u001b[1;33m(\u001b[0m\u001b[1;33m)\u001b[0m\u001b[1;33m\u001b[0m\u001b[0m\n\u001b[0;32m      2\u001b[0m \u001b[0ms\u001b[0m \u001b[1;33m=\u001b[0m \u001b[0msplay\u001b[0m\u001b[1;33m.\u001b[0m\u001b[0mSplay\u001b[0m\u001b[1;33m(\u001b[0m\u001b[1;33m)\u001b[0m\u001b[1;33m\u001b[0m\u001b[0m\n\u001b[1;32m----> 3\u001b[1;33m \u001b[0minsertions1\u001b[0m\u001b[1;33m(\u001b[0m\u001b[0mdata\u001b[0m\u001b[1;33m,\u001b[0m \u001b[0mb\u001b[0m\u001b[1;33m,\u001b[0m \u001b[0ms\u001b[0m\u001b[1;33m)\u001b[0m\u001b[1;33m\u001b[0m\u001b[0m\n\u001b[0m",
      "\u001b[1;31mNameError\u001b[0m: name 'data' is not defined"
     ]
    }
   ],
   "source": [
    "b = bst.BST()\n",
    "s = splay.Splay()\n",
    "insertions1(data, b, s)"
   ]
  },
  {
   "cell_type": "code",
   "execution_count": 31,
   "metadata": {},
   "outputs": [
    {
     "data": {
      "image/png": "[encoded data removed]",
      "text/plain": [
       "<matplotlib.figure.Figure at 0x1780deb6fd0>"
      ]
     },
     "metadata": {},
     "output_type": "display_data"
    }
   ],
   "source": [
    "data = random.sample(range(MAX), MAX)\n",
    "b = bst.BST()\n",
    "s = splay.Splay()\n",
    "insertions1(data, b, s)"
   ]
  },
  {
   "cell_type": "code",
   "execution_count": 17,
   "metadata": {},
   "outputs": [],
   "source": [
    "dels = random.sample(data, 1000)\n",
    "even_accesses = random.sample(data, MAX)\n",
    "very_uneven_accesses = []\n",
    "element = data[random.randint(0, MAX)]\n",
    "for i in range(MAX):\n",
    "    very_uneven_accesses.append(element)\n",
    "\n",
    "pretty_uneven_accesses4 = []\n",
    "base = random.randint(0, MAX - 4)\n",
    "for i in range(MAX):\n",
    "    pretty_uneven_accesses4.append(random.randint(base, base + 4))\n",
    "\n",
    "pretty_uneven_accesses10 = []\n",
    "base = random.randint(0, MAX - 10)\n",
    "for i in range(MAX):\n",
    "    pretty_uneven_accesses10.append(random.randint(base, base + 10))"
   ]
  },
  {
   "cell_type": "code",
   "execution_count": 23,
   "metadata": {
    "collapsed": true
   },
   "outputs": [],
   "source": [
    "def accesses1(accs, tree,tree1):\n",
    "    x=[];\n",
    "    i=0;\n",
    "    tt=[];\n",
    "    start = time.process_time()\n",
    "    for a in accs:\n",
    "        tree.search(a)\n",
    "        i+=1;\n",
    "        x.append(i);\n",
    "        tt.append(time.process_time()-start);\n",
    "    plt.plot(x,tt,label=\"BST\");\n",
    "    x=[];\n",
    "    i=0;\n",
    "    tt=[];\n",
    "    start = time.process_time()\n",
    "    for a in accs:\n",
    "        tree1.search(a)\n",
    "        i+=1;\n",
    "        x.append(i);\n",
    "        tt.append(time.process_time()-start);\n",
    "    plt.plot(x,tt,label=\"Splay tree\");\n",
    "    plt.xlabel(\"No. of Numbers searched\");\n",
    "    plt.ylabel(\"Time taken\");\n",
    "    plt.legend()\n",
    "    plt.show()"
   ]
  },
  {
   "cell_type": "code",
   "execution_count": 32,
   "metadata": {},
   "outputs": [
    {
     "data": {
      "image/png": "[encoded data removed]",
      "text/plain": [
       "<matplotlib.figure.Figure at 0x1780de9c128>"
      ]
     },
     "metadata": {},
     "output_type": "display_data"
    }
   ],
   "source": [
    "accesses1(even_accesses, b,s)"
   ]
  },
  {
   "cell_type": "code",
   "execution_count": 33,
   "metadata": {},
   "outputs": [
    {
     "data": {
      "image/png": "[encoded data removed]",
      "text/plain": [
       "<matplotlib.figure.Figure at 0x1780e0f6588>"
      ]
     },
     "metadata": {},
     "output_type": "display_data"
    }
   ],
   "source": [
    "accesses1(pretty_uneven_accesses4, b, s)"
   ]
  },
  {
   "cell_type": "code",
   "execution_count": 34,
   "metadata": {},
   "outputs": [
    {
     "data": {
      "image/png": "[encoded data removed]",
      "text/plain": [
       "<matplotlib.figure.Figure at 0x1780dc49b00>"
      ]
     },
     "metadata": {},
     "output_type": "display_data"
    }
   ],
   "source": [
    "accesses1(pretty_uneven_accesses10, b, s)"
   ]
  },
  {
   "cell_type": "code",
   "execution_count": 35,
   "metadata": {},
   "outputs": [
    {
     "data": {
      "image/png": "[encoded data removed]",
      "text/plain": [
       "<matplotlib.figure.Figure at 0x1780e0454e0>"
      ]
     },
     "metadata": {},
     "output_type": "display_data"
    }
   ],
   "source": [
    "accesses1(very_uneven_accesses, b, s)"
   ]
  },
  {
   "cell_type": "code",
   "execution_count": 28,
   "metadata": {
    "collapsed": true
   },
   "outputs": [],
   "source": [
    "def deletions1(ds, tree,tree1):\n",
    "    x=[];\n",
    "    i=0;\n",
    "    tt=[];\n",
    "    start = time.process_time()\n",
    "    for d in ds:\n",
    "        tree.remove(d)\n",
    "        i+=1;\n",
    "        x.append(i);\n",
    "        tt.append(time.process_time()-start);\n",
    "    plt.plot(x,tt,label=\"BST\");\n",
    "    x=[];\n",
    "    i=0;\n",
    "    tt=[];\n",
    "    start = time.process_time()\n",
    "    for d in ds:\n",
    "        tree1.remove(d)\n",
    "        i+=1;\n",
    "        x.append(i);\n",
    "        tt.append(time.process_time()-start);\n",
    "    plt.plot(x,tt,label=\"Splay tree\");\n",
    "    plt.xlabel(\"No. of Numbers deleted\");\n",
    "    plt.ylabel(\"Time taken\");\n",
    "    plt.legend()\n",
    "    plt.show()"
   ]
  },
  {
   "cell_type": "code",
   "execution_count": 36,
   "metadata": {},
   "outputs": [
    {
     "data": {
      "image/png": "[encoded data removed]",
      "text/plain": [
       "<matplotlib.figure.Figure at 0x1780dc7d4e0>"
      ]
     },
     "metadata": {},
     "output_type": "display_data"
    }
   ],
   "source": [
    "deletions1(dels, b,s)"
   ]
  },
  {
   "cell_type": "code",
   "execution_count": null,
   "metadata": {
    "collapsed": true
   },
   "outputs": [],
   "source": []
  }
 ],
 "metadata": {
  "kernelspec": {
   "display_name": "Python 3",
   "language": "python",
   "name": "python3"
  },
  "language_info": {
   "codemirror_mode": {
    "name": "ipython",
    "version": 3
   },
   "file_extension": ".py",
   "mimetype": "text/x-python",
   "name": "python",
   "nbconvert_exporter": "python",
   "pygments_lexer": "ipython3",
   "version": "3.6.1"
  }
 },
 "nbformat": 4,
 "nbformat_minor": 2
}
