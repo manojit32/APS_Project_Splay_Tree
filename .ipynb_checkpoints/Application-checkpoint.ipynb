{
 "cells": [
  {
   "cell_type": "code",
   "execution_count": 1,
   "metadata": {},
   "outputs": [
    {
     "name": "stdout",
     "output_type": "stream",
     "text": [
      "1\n"
     ]
    }
   ],
   "source": [
    "import demo"
   ]
  },
  {
   "cell_type": "code",
   "execution_count": null,
   "metadata": {},
   "outputs": [
    {
     "name": "stdout",
     "output_type": "stream",
     "text": [
      "Enter 1 to enter new record, 2 to search by artist name, 3 to delete, 4 to exit: \n",
      "1\n",
      "Enter artist name: Enrique\n",
      "Enter song name: Subeme La Radio\n",
      "Successfully inserted.\n",
      "Enter 1 to enter new record, 2 to search by artist name, 3 to delete, 4 to exit: \n",
      "2\n",
      "Enter artist name: Enrique\n",
      "Enrique Urquijo Y Los Problemas Atras\n",
      "Enrique Iglesias Contigo\n",
      "Enrique Morente Granada_ Calle De Elvira\n",
      "Enrique Iglesias Para Qué La Vida\n",
      "Enrique Urquijo Y Los Problemas Aunque Tu No Lo Sepas\n",
      "Enrique Quezadas Movimientos\n",
      "Enrique Iglesias Love To See You Cry\n",
      "Enrique Iglesias Dímelo\n",
      "Enrique Iglesias Escape\n",
      "Enrique Iglesias Roamer\n",
      "Enrique Iglesias Ring My Bells\n",
      "Enrique Iglesias Quizás\n",
      "Enrique Iglesias No Puedo Mas Sin Ti (I'm Your Man)\n",
      "Enrique Iglesias California Callin'\n",
      "Enrique Quezadas Llénate de mi\n",
      "Enrique Morente Que Te Quise Con Locura (1996 Digital Remaster)\n",
      "Enrique Iglesias Bailamos\n",
      "Enrique Morente Un Pastorcito (Cancion)\n",
      "Enrique Morente La Lengua Que De Mi Murmura\n",
      "Enrique Morente Negro Bembón\n",
      "Enrique Subeme La Radio\n",
      "Enrique Bunbury Es Solo Un Día Más\n",
      "Enrique Iglesias Don't Turn Off the Lights\n",
      "Enrique Morente Soy Del Reino De Almería\n",
      "Enrique Morente Solea De La Ciencia\n",
      "Enrique Morente Si Vas A San Antolín (1996 Digital Remaster)\n",
      "Enrique Iglesias / Ciara Takin' Back My Love\n",
      "Enrique Morente En Un Sueño Viniste (Cancion)\n",
      "Enrique Quezadas Cazador\n",
      "Enrique Iglesias Can You Hear Me\n",
      "Enrique Quezadas Como Una Telenovela\n",
      "Enrique Quezadas Robando Luz al Sol\n",
      "Enrique Quezadas Espumas De Otro Mar\n",
      "Enrique Iglesias Miente\n",
      "Enrique Iglesias Cosas Del Amor\n",
      "Enrique Morente Prefiero La Muerte (Malagueña)\n",
      "Enrique Morente En Lo Mejor De Tus Sueños\n",
      "Enrique Quezadas Amor del Bueno\n",
      "Enrique Quezadas Dentro de mi\n",
      "Enrique Morente En Un Hospital La Vi\n",
      "Enrique Urquijo Y Los Problemas Demasiado Tarde\n",
      "Enrique Morente Balada De Los Dos Abuelos\n",
      "Enrique Morente Sale El Sol\n",
      "Enrique Iglesias Experiencia Religiosa\n",
      "Enrique Urquijo Y Los Problemas Perla De Cristal\n",
      "Enrique Urquijo Y Los Problemas No Digas Que No\n",
      "Enrique Morente Credo\n",
      "Enrique Iglesias Maybe\n",
      "Enrique Quezadas Tu Orilla\n",
      "Enrique Iglesias / Kelis Not In Love\n",
      "Enrique Morente El Jardin De Venus (Malagueña En Tono De Granaina)\n",
      "Enrique Quezadas Mi Hija\n",
      "Enrique Morente Lloré Más Que Jeremias\n",
      "Enrique Morente Agua Clara (Tarantos)\n",
      "Enrique Quezadas Coraje\n",
      "Enrique Morente La Malanga (Guajira)\n",
      "Enrique Morente Generalife\n",
      "Enter 1 to enter new record, 2 to search by artist name, 3 to delete, 4 to exit: \n",
      "1\n",
      "Enter artist name: Manojit\n",
      "Enter song name: IIIT\n",
      "Successfully inserted.\n",
      "Enter 1 to enter new record, 2 to search by artist name, 3 to delete, 4 to exit: \n",
      "2\n",
      "Enter artist name: Manojit\n",
      "Manojit IIIT\n",
      "Enter 1 to enter new record, 2 to search by artist name, 3 to delete, 4 to exit: \n",
      "3\n",
      "Enter artist name: Manojit\n",
      "Enter song name: IIIT\n",
      "Successfully deleted.\n",
      "Enter 1 to enter new record, 2 to search by artist name, 3 to delete, 4 to exit: \n",
      "2\n",
      "Enter artist name: Manojit\n"
     ]
    }
   ],
   "source": [
    "demo.face()"
   ]
  },
  {
   "cell_type": "code",
   "execution_count": null,
   "metadata": {},
   "outputs": [],
   "source": []
  }
 ],
 "metadata": {
  "kernelspec": {
   "display_name": "Python 3",
   "language": "python",
   "name": "python3"
  },
  "language_info": {
   "codemirror_mode": {
    "name": "ipython",
    "version": 3
   },
   "file_extension": ".py",
   "mimetype": "text/x-python",
   "name": "python",
   "nbconvert_exporter": "python",
   "pygments_lexer": "ipython3",
   "version": "3.7.0"
  }
 },
 "nbformat": 4,
 "nbformat_minor": 2
}
